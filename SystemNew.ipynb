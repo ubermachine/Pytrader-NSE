{
 "cells": [
  {
   "cell_type": "markdown",
   "metadata": {},
   "source": [
    "## This is the updated system\n",
    "1. Fetch data from NSE\n",
    "2. Automatically generate prices and stop loss"
   ]
  },
  {
   "cell_type": "markdown",
   "metadata": {},
   "source": [
    "## Instructions\n",
    "1. See instructions for each cell\n",
    "2. You need to change only the PARAMETERS, nothing else\n",
    "3. Store all your data in data folder\n",
    "4. All the orders you generate go into the orders folder\n",
    "5. Orders for the present day are created with the filename **orders_to_place.csv** and stored in the current directory"
   ]
  },
  {
   "cell_type": "code",
   "execution_count": 1,
   "metadata": {},
   "outputs": [],
   "source": [
    "# Import libraries\n",
    "import pandas as pd\n",
    "import os"
   ]
  },
  {
   "cell_type": "markdown",
   "metadata": {},
   "source": [
    "## Parameters that could be changed"
   ]
  },
  {
   "cell_type": "code",
   "execution_count": 2,
   "metadata": {},
   "outputs": [],
   "source": [
    "UNIVERSE = 'NIFTY50' # Universe to be searched\n",
    "ORDER_FILENAME = 'data/cm11SEP2018bhav.csv.zip'\n",
    "STOP_LOSS = 3 # Stop loss for the order\n",
    "NUM_STOCKS = 5 # Number of stocks to sell\n",
    "CAPITAL = 20000\n",
    "LEVERAGE = 1\n",
    "ORDERFILE_PREFIX = 'orders_' # Prefix file name to store"
   ]
  },
  {
   "cell_type": "code",
   "execution_count": 3,
   "metadata": {},
   "outputs": [],
   "source": [
    "from utils import *\n",
    "preopen = fetch_preopen_data()"
   ]
  },
  {
   "cell_type": "code",
   "execution_count": 4,
   "metadata": {},
   "outputs": [],
   "source": [
    "### Don't change the below cell"
   ]
  },
  {
   "cell_type": "code",
   "execution_count": 5,
   "metadata": {},
   "outputs": [],
   "source": [
    "eod = pd.read_csv(ORDER_FILENAME, parse_dates=['TIMESTAMP'],\n",
    "                    usecols=range(13))\n",
    "symbols = pd.read_excel('universe.xlsx', sheet_name=UNIVERSE, header=None).values.ravel()\n",
    "df = eod[eod['SYMBOL'].isin(symbols)]\n",
    "df = df[df['SERIES'] == \"EQ\"].reset_index(drop=True)"
   ]
  },
  {
   "cell_type": "markdown",
   "metadata": {},
   "source": [
    "## Trading logic\n",
    "\n",
    "There is where all your logic goes.\n",
    "At present, we short the top n stocks the previous day"
   ]
  },
  {
   "cell_type": "code",
   "execution_count": 6,
   "metadata": {},
   "outputs": [],
   "source": [
    "df['RET'] = (df['CLOSE']/df['PREVCLOSE']) - 1\n",
    "result = df.sort_values(by='RET', ascending = False).iloc[:NUM_STOCKS]"
   ]
  },
  {
   "cell_type": "code",
   "execution_count": 7,
   "metadata": {},
   "outputs": [],
   "source": [
    "trading_capital = CAPITAL * LEVERAGE\n",
    "orders = result.merge(preopen, on='SYMBOL')\n",
    "num_stock = len(orders)"
   ]
  },
  {
   "cell_type": "markdown",
   "metadata": {},
   "source": [
    "## Pricing logic goes here"
   ]
  },
  {
   "cell_type": "code",
   "execution_count": 8,
   "metadata": {},
   "outputs": [],
   "source": [
    "# I prefer a constant percentage change instead of value\n",
    "# If you prefer it, make this raw and use the below cell\n",
    "\n",
    "orders['trigger_price'] = orders['OpenPrice'] - 0.05\n",
    "orders['price'] = orders['trigger_price'] - 0.05"
   ]
  },
  {
   "cell_type": "raw",
   "metadata": {},
   "source": [
    "# Price calculated at a fixed percentage from open price\n",
    "\n",
    "orders['trigger_price'] = orders['OpenPrice'] * 0.9985\n",
    "orders['price'] = orders['trigger_price'] - 0.05"
   ]
  },
  {
   "cell_type": "code",
   "execution_count": 9,
   "metadata": {},
   "outputs": [],
   "source": [
    "# Stop loss and quantity automatically generated\n",
    "\n",
    "orders['stop_loss'] = (orders['price'] * (1 + STOP_LOSS * 0.01)).round(2).apply(tick)\n",
    "orders['qty'] = (trading_capital/num_stock/orders['price']).round()\n",
    "import datetime\n",
    "filename = ORDERFILE_PREFIX + datetime.datetime.today().strftime('%Y-%m-%d') + '.csv'\n",
    "orders.to_csv('orders/' + filename,  index=False)"
   ]
  },
  {
   "cell_type": "markdown",
   "metadata": {},
   "source": [
    "### Use the below cells to generate orders for your broker\n",
    "#### I have included code for **NEST**\n",
    "\n",
    "Most brokers and software provide an option to place basket orders. So we are going to create a basket order from our orders.  We would be using the ``create_order`` function from ``utils.py`` file.\n",
    "\n",
    "To do this for your specific broker, do the following steps\n",
    "\n",
    "1. Know the format of your broker; you can do this by placing a basket order and exporting it\n",
    "2. The format would usually have a list of columns to be filled up. We need to fill all the columns to import our order.\n",
    "3. We separate the columns into columns that are already in our dataframe and columns to be included\n",
    "4. We prepare a list of matching columns and rename them\n",
    "5. For new columns, we create a python dictionary with keys as column names and values as the value for the column (we assume that these columns have a single value)\n",
    "\n",
    "All this has been done for NEST.\n",
    "\n",
    "*Thanks @vjay for providing the necessary support*\n"
   ]
  },
  {
   "cell_type": "markdown",
   "metadata": {},
   "source": [
    "## Parameters for order generation\n",
    "\n"
   ]
  },
  {
   "cell_type": "code",
   "execution_count": 10,
   "metadata": {},
   "outputs": [],
   "source": [
    "ACCOUNTID = 'XXXXXX' # Your accountId with broker"
   ]
  },
  {
   "cell_type": "code",
   "execution_count": 11,
   "metadata": {},
   "outputs": [],
   "source": [
    "# List of columns to be included in the output\n",
    "\n",
    "cols = [\n",
    "    'Segment', 'InstrumentName', 'Symbol', 'Option Type', 'Strike Price',\n",
    "    'ExpiryDate', 'Price', 'Qty', 'LTP', 'Buy/Sell', 'Order Type',\n",
    "    'TriggerPrice', 'Pro/Cli', 'P Type', 'Validity', 'AccountId',\n",
    "    'Validity Date', 'Remarks', 'Participant code', 'Validity Time',\n",
    "    'Market Proc'    \n",
    "]\n",
    "\n",
    "# These columns are common for all orders - columns with a single name\n",
    "columns = {\n",
    "    'Segment': 'NSE',\n",
    "    'InstrumentName': 'EQ',\n",
    "    'Option Type': 'NA',\n",
    "    'Strike Price': 'NA',\n",
    "    'ExpiryDate': 'NA',\n",
    "    'LTP': 0,\n",
    "    'Disclosed Qty': 0,\n",
    "    'AccountId': ACCOUNTID,\n",
    "    'Pro/Cli': 'CLI',\n",
    "    'Validity': 'DAY',\n",
    "    'P Type': 'MIS',\n",
    "    'Remarks': '',\n",
    "    'Validity Date': 'NA',\n",
    "    'Participant code': '',\n",
    "    'Validity Time': 'NA',\n",
    "    'Market Proc': 'NA',\n",
    "    'Order Type': 'SL'\n",
    "}\n",
    "\n",
    "# These are columns to be renamed\n",
    "rename = {\n",
    "    'order': 'Buy/Sell',\n",
    "    'price': 'Price',\n",
    "    'qty': 'Qty',\n",
    "    'trigger_price': 'TriggerPrice',\n",
    "    'price': 'Price' ,\n",
    "    'SYMBOL': 'Symbol'\n",
    "}"
   ]
  },
  {
   "cell_type": "code",
   "execution_count": 12,
   "metadata": {},
   "outputs": [
    {
     "name": "stdout",
     "output_type": "stream",
     "text": [
      "File generated\n"
     ]
    }
   ],
   "source": [
    "# Generating orders in the required format\n",
    "entry_orders = orders.copy()\n",
    "entry = create_orders(entry_orders, rename=rename, **columns)\n",
    "\n",
    "# Exit orders order type and price to be changed\n",
    "exit_orders = orders.copy()\n",
    "exit_orders['order'] = 'BUY'\n",
    "exit_orders['price'] = 0\n",
    "exit_orders['trigger_price'] = list(stop_loss(orders['price'], 3, order='S').round(2))\n",
    "columns.update({'Order Type': 'SL-M'})\n",
    "exit = create_orders(exit_orders, rename=rename, **columns)\n",
    "\n",
    "# File generation\n",
    "entry.append(exit, sort=False)[cols].to_csv('orders_to_place.csv', \n",
    "                   index=False, header=False)\n",
    "\n",
    "print('File generated')\n",
    "\n",
    "# If you want header change header to True\n",
    "# If you want to export as excel use the to_excel function"
   ]
  }
 ],
 "metadata": {
  "kernelspec": {
   "display_name": "Python 3",
   "language": "python",
   "name": "python3"
  },
  "language_info": {
   "codemirror_mode": {
    "name": "ipython",
    "version": 3
   },
   "file_extension": ".py",
   "mimetype": "text/x-python",
   "name": "python",
   "nbconvert_exporter": "python",
   "pygments_lexer": "ipython3",
   "version": "3.6.6"
  }
 },
 "nbformat": 4,
 "nbformat_minor": 2
}
